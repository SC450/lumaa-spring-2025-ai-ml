{
 "cells": [
  {
   "cell_type": "markdown",
   "metadata": {},
   "source": [
    "# Simple Content-Based Recommendation System"
   ]
  },
  {
   "cell_type": "code",
   "execution_count": 1,
   "metadata": {},
   "outputs": [],
   "source": [
    "# Imports\n",
    "import pandas as pd\n",
    "from sklearn.feature_extraction.text import TfidfVectorizer\n",
    "from sklearn.metrics.pairwise import cosine_similarity\n",
    "from IPython.display import display, HTML"
   ]
  },
  {
   "cell_type": "code",
   "execution_count": 2,
   "metadata": {},
   "outputs": [],
   "source": [
    "# Load the movie data and combine it with the user's query to create a corpus.\n",
    "def form_corpus(movies: str, query: str):\n",
    "    \"\"\"\n",
    "    Loads in a .csv file of movie data and combines it with the user query for\n",
    "    data preprocessing.\n",
    "\n",
    "    Args:\n",
    "        `movies`: A DataFrame containing movie data.\n",
    "        `query`: The user's query.\n",
    "\n",
    "    Returns:\n",
    "        A list of movie plots and the user's query.\n",
    "    \"\"\"\n",
    "    # Combine user query with movie data\n",
    "    corpus = movies[\"Plot\"].to_list()\n",
    "    corpus.append(query)\n",
    "    return corpus"
   ]
  },
  {
   "cell_type": "code",
   "execution_count": 3,
   "metadata": {},
   "outputs": [],
   "source": [
    "# Vectorize the corpus into TF-IDF vectors and get cosine similarity between\n",
    "# each movie plot and the user's query.\n",
    "def calculate_cos_similarities(corpus: list):\n",
    "    \"\"\"\n",
    "    Transforms each movie plot and the user's query into a TF-IDF vector, and\n",
    "    gets the cosine similarity between each movie plot and the user's query.\n",
    "\n",
    "    Args:\n",
    "        `corpus`: A list of movie plots and the user's query.\n",
    "\n",
    "    Returns:\n",
    "        A NumPy array containing all of the cosine similarities between each\n",
    "        individual movie plot and the user's query.\n",
    "    \"\"\"\n",
    "    # Convert the corpus to TF-IDF vectors\n",
    "    tfidf_vectorizer = TfidfVectorizer()\n",
    "    tfidf_matrix = tfidf_vectorizer.fit_transform(corpus)\n",
    "\n",
    "    # Calculate cosine similarity between the user query and movie plots\n",
    "    return cosine_similarity(tfidf_matrix[:-1], tfidf_matrix[-1]).flatten()"
   ]
  },
  {
   "cell_type": "code",
   "execution_count": 4,
   "metadata": {},
   "outputs": [],
   "source": [
    "# Get the top movie recommendations for the user according to their query.\n",
    "def find_recommendations(query: str, n: int = 5):\n",
    "    \"\"\"\n",
    "    Finds the top `n` movie recommendations based on the contents of `query`.\n",
    "\n",
    "    Args:\n",
    "        `query`: A string containing a description of the user's preferences.\n",
    "        `n`: The number of most similar movies to find.\n",
    "\n",
    "    Returns:\n",
    "        A DataFrame containing the top `n` movie recommendations.\n",
    "    \"\"\"\n",
    "    # Load in the movies dataset\n",
    "    movies = pd.read_csv(\"movie_plots.csv\")\n",
    "\n",
    "    # Form the corpus and get cosine similarities\n",
    "    corpus = form_corpus(movies, query)\n",
    "    cos_sims = calculate_cos_similarities(corpus)\n",
    "\n",
    "    # Get the top n matches\n",
    "    top_idxs = cos_sims.argsort()[-n:][::-1]\n",
    "    top_movies = movies.iloc[top_idxs][[\"Title\", \"Plot\"]]\n",
    "\n",
    "    # Return the recommendations\n",
    "    return top_movies.reset_index(drop=True)"
   ]
  },
  {
   "cell_type": "code",
   "execution_count": 5,
   "metadata": {},
   "outputs": [],
   "source": [
    "# Display the movie recommendations neatly.\n",
    "def display_movies(movies):\n",
    "    \"\"\"\n",
    "    Neatly displays a DataFrame of movie recommendations using HTML.\n",
    "\n",
    "    Args:\n",
    "        `movies`: A DataFrame of recommended movies with their titles and\n",
    "        descriptions.\n",
    "\n",
    "    Returns:\n",
    "        None; displays each movie in `movies`, neatly displaying each\n",
    "        movie's title and description.\n",
    "    \"\"\"\n",
    "    html_content = \"\"\"<style>\n",
    "    .movie-container {\n",
    "        font-family: Arial, sans-serif;\n",
    "        margin-bottom: 20px;\n",
    "        padding: 10px;\n",
    "        border: 1px solid #ddd;\n",
    "        border-radius: 5px;\n",
    "        background-color: #f9f9f9;\n",
    "    }\n",
    "    .movie-title {\n",
    "        font-size: 18px;\n",
    "        font-weight: bold;\n",
    "        color: #333;\n",
    "    }\n",
    "    .movie-plot {\n",
    "        font-size: 14px;\n",
    "        color: #666;\n",
    "        margin-top: 5px;\n",
    "    }\n",
    "    </style>\"\"\"\n",
    "\n",
    "    html_content += \"<h1 style='color:#dae2f0'>Top Movie Recommendations</h1>\"\n",
    "    \n",
    "    for _, row in movies.iterrows():\n",
    "        html_content += f\"\"\"\n",
    "        <div class='movie-container'>\n",
    "            <div class='movie-title'>{row['Title']}</div>\n",
    "            <div class='movie-plot'>{row['Plot']}</div>\n",
    "        </div>\n",
    "        \"\"\"\n",
    "    \n",
    "    display(HTML(html_content))"
   ]
  },
  {
   "cell_type": "markdown",
   "metadata": {},
   "source": [
    "### Enter your query in the below cell, as well as how many recommendations you would like."
   ]
  },
  {
   "cell_type": "code",
   "execution_count": 6,
   "metadata": {},
   "outputs": [],
   "source": [
    "# Enter your query in the string below.\n",
    "query = \"I love romantic comedies with lots of drama!\"\n",
    "\n",
    "# Enter the number of recommendations you would like.\n",
    "matches = 3"
   ]
  },
  {
   "cell_type": "code",
   "execution_count": 7,
   "metadata": {},
   "outputs": [
    {
     "data": {
      "text/html": [
       "<div>\n",
       "<style scoped>\n",
       "    .dataframe tbody tr th:only-of-type {\n",
       "        vertical-align: middle;\n",
       "    }\n",
       "\n",
       "    .dataframe tbody tr th {\n",
       "        vertical-align: top;\n",
       "    }\n",
       "\n",
       "    .dataframe thead th {\n",
       "        text-align: right;\n",
       "    }\n",
       "</style>\n",
       "<table border=\"1\" class=\"dataframe\">\n",
       "  <thead>\n",
       "    <tr style=\"text-align: right;\">\n",
       "      <th></th>\n",
       "      <th>Title</th>\n",
       "      <th>Plot</th>\n",
       "    </tr>\n",
       "  </thead>\n",
       "  <tbody>\n",
       "    <tr>\n",
       "      <th>0</th>\n",
       "      <td>Oh Doctor!</td>\n",
       "      <td>As described in Exhibitors Herald, a film maga...</td>\n",
       "    </tr>\n",
       "    <tr>\n",
       "      <th>1</th>\n",
       "      <td>Caught in a Cabaret</td>\n",
       "      <td>Chaplin plays a waiter who fakes being a Greek...</td>\n",
       "    </tr>\n",
       "    <tr>\n",
       "      <th>2</th>\n",
       "      <td>Romance</td>\n",
       "      <td>As described in a film publication,[2] a youth...</td>\n",
       "    </tr>\n",
       "  </tbody>\n",
       "</table>\n",
       "</div>"
      ],
      "text/plain": [
       "                 Title                                               Plot\n",
       "0           Oh Doctor!  As described in Exhibitors Herald, a film maga...\n",
       "1  Caught in a Cabaret  Chaplin plays a waiter who fakes being a Greek...\n",
       "2              Romance  As described in a film publication,[2] a youth..."
      ]
     },
     "execution_count": 7,
     "metadata": {},
     "output_type": "execute_result"
    }
   ],
   "source": [
    "result = find_recommendations(query, matches)\n",
    "result"
   ]
  },
  {
   "cell_type": "code",
   "execution_count": 8,
   "metadata": {},
   "outputs": [
    {
     "data": {
      "text/html": [
       "<style>\n",
       "    .movie-container {\n",
       "        font-family: Arial, sans-serif;\n",
       "        margin-bottom: 20px;\n",
       "        padding: 10px;\n",
       "        border: 1px solid #ddd;\n",
       "        border-radius: 5px;\n",
       "        background-color: #f9f9f9;\n",
       "    }\n",
       "    .movie-title {\n",
       "        font-size: 18px;\n",
       "        font-weight: bold;\n",
       "        color: #333;\n",
       "    }\n",
       "    .movie-plot {\n",
       "        font-size: 14px;\n",
       "        color: #666;\n",
       "        margin-top: 5px;\n",
       "    }\n",
       "    </style><h1 style='color:#dae2f0'>Top Movie Recommendations</h1>\n",
       "        <div class='movie-container'>\n",
       "            <div class='movie-title'>Oh Doctor!</div>\n",
       "            <div class='movie-plot'>As described in Exhibitors Herald, a film magazine,[3] Dr. Fatty Holepoke (Arbuckle) bets all of his money on a horse and loses it. He becomes entangled in the meshes of a vampire (Mann), but when he hears the voice of \"his master\" (his wife), he finds himself in a serious predicament. With the assistance of a uniform stolen from a policeman, he manages to get away. He tries his luck again with the horses and wins lots of money. However, when he walks down the street his wife relieves him of all of it and leads him home, even though she is half his size.</div>\n",
       "        </div>\n",
       "        \n",
       "        <div class='movie-container'>\n",
       "            <div class='movie-title'>Caught in a Cabaret</div>\n",
       "            <div class='movie-plot'>Chaplin plays a waiter who fakes being a Greek Ambassador to impress a girl. He then is invited to a garden party where he gets in trouble with the girl's jealous boyfriend. Mabel Normand wrote and directed comedies before Chaplin and mentored her young co-star.</div>\n",
       "        </div>\n",
       "        \n",
       "        <div class='movie-container'>\n",
       "            <div class='movie-title'>Romance</div>\n",
       "            <div class='movie-plot'>As described in a film publication,[2] a youth (Arthur Rankin) in the prologue seeks advice from his grandfather (Sydney), who then recalls a romance of his own youth which is then shown as a flashback. A priest (Sydney) is in love with an Italian opera singer (Keane), and the drama involves the conflict between his efforts to rise above worldly things or to leave with her. The romance ends with a deep note of pathos.</div>\n",
       "        </div>\n",
       "        "
      ],
      "text/plain": [
       "<IPython.core.display.HTML object>"
      ]
     },
     "metadata": {},
     "output_type": "display_data"
    }
   ],
   "source": [
    "display_movies(result)"
   ]
  }
 ],
 "metadata": {
  "kernelspec": {
   "display_name": "base",
   "language": "python",
   "name": "python3"
  },
  "language_info": {
   "codemirror_mode": {
    "name": "ipython",
    "version": 3
   },
   "file_extension": ".py",
   "mimetype": "text/x-python",
   "name": "python",
   "nbconvert_exporter": "python",
   "pygments_lexer": "ipython3",
   "version": "3.12.8"
  }
 },
 "nbformat": 4,
 "nbformat_minor": 2
}
